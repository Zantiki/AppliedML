{
 "cells": [
  {
   "cell_type": "markdown",
   "metadata": {
    "collapsed": true,
    "pycharm": {
     "name": "#%% md\n"
    }
   },
   "source": [
    "# Task 1:\n",
    "read the dataset and determine the optimal amount of clusters."
   ]
  },
  {
   "cell_type": "code",
   "execution_count": 1,
   "metadata": {
    "pycharm": {
     "name": "#%%\n"
    }
   },
   "outputs": [
    {
     "name": "stdout",
     "output_type": "stream",
     "text": [
      "Optimal number of clusters:  4\n"
     ]
    }
   ],
   "source": [
    "import pandas\n",
    "import numpy as np\n",
    "from sklearn.metrics import silhouette_score\n",
    "from sklearn.cluster import KMeans\n",
    "import matplotlib.pyplot as plt\n",
    "from mpl_toolkits.mplot3d import Axes3D\n",
    "from sklearn import decomposition\n",
    "\n",
    "data = pandas.read_csv(\"data/expanded\")\n",
    "X = pandas.get_dummies(data.drop('edibility', axis='columns')).to_numpy()\n",
    "pca = decomposition.PCA(n_components=3)\n",
    "pca.fit(X)\n",
    "X2 = pca.transform(X)\n",
    "scores = []\n",
    "\n",
    "for i in range(0, 10):\n",
    "    kmeans = KMeans(n_clusters=i+2)\n",
    "    kmeans.fit(X2)\n",
    "    predicted = kmeans.predict(X2)\n",
    "    scores.append(silhouette_score(X2, kmeans.fit_predict(X2)))\n",
    "optimal_clusters = scores.index(max(scores))+2\n",
    "print(\"Optimal number of clusters: \", optimal_clusters)"
   ]
  },
  {
   "cell_type": "markdown",
   "metadata": {
    "pycharm": {
     "name": "#%% md\n"
    }
   },
   "source": [
    "# Task 2\n",
    "Plot the score"
   ]
  },
  {
   "cell_type": "code",
   "execution_count": null,
   "metadata": {
    "pycharm": {
     "name": "#%%\n"
    }
   },
   "outputs": [],
   "source": [
    "x_values = [x for x in range(2, 12)]\n",
    "\n",
    "plt.plot(x_values, scores)\n"
   ]
  },
  {
   "cell_type": "markdown",
   "metadata": {
    "pycharm": {
     "name": "#%% md\n"
    }
   },
   "source": [
    "# Task 3\n",
    "Plot the clusters using the optimal number of clusters and the PCA of X."
   ]
  },
  {
   "cell_type": "code",
   "execution_count": null,
   "metadata": {
    "pycharm": {
     "name": "#%%\n"
    }
   },
   "outputs": [],
   "source": [
    "fig2 = plt.figure()\n",
    "ax2 = Axes3D(fig2)\n",
    "kmeans = KMeans(n_clusters=optimal_clusters)\n",
    "kmeans.fit(X2)\n",
    "y_kmeans = kmeans.predict(X2)\n",
    "\n",
    "ax2.scatter(X2[:, 0], X2[:, 1], X2[:, 2], c=y_kmeans, s=50, alpha=0.1, cmap='viridis')\n",
    "centers = kmeans.cluster_centers_\n",
    "print(y_kmeans.shape)\n",
    "print(X2.shape)\n",
    "print(X.shape)\n",
    "print(centers.shape)\n",
    "\n",
    "for i in range(0, optimal_clusters):\n",
    "    print(centers[i, 0], centers[i, 1], centers[i,2])\n",
    "    ax2.text(centers[i, 0], centers[i, 1], centers[i, 2], '%s' % str(i), size=50)\n"
   ]
  },
  {
   "cell_type": "code",
   "execution_count": null,
   "outputs": [],
   "source": [],
   "metadata": {
    "collapsed": false,
    "pycharm": {
     "name": "#%%\n"
    }
   }
  },
  {
   "cell_type": "code",
   "execution_count": null,
   "outputs": [],
   "source": [],
   "metadata": {
    "collapsed": false,
    "pycharm": {
     "name": "#%%\n"
    }
   }
  },
  {
   "cell_type": "code",
   "execution_count": null,
   "metadata": {
    "pycharm": {
     "name": "#%%\n"
    }
   },
   "outputs": [],
   "source": []
  },
  {
   "cell_type": "code",
   "execution_count": null,
   "metadata": {},
   "outputs": [],
   "source": []
  },
  {
   "cell_type": "code",
   "execution_count": null,
   "metadata": {},
   "outputs": [],
   "source": []
  }
 ],
 "metadata": {
  "kernelspec": {
   "display_name": "Python 3",
   "language": "python",
   "name": "python3"
  },
  "language_info": {
   "codemirror_mode": {
    "name": "ipython",
    "version": 3
   },
   "file_extension": ".py",
   "mimetype": "text/x-python",
   "name": "python",
   "nbconvert_exporter": "python",
   "pygments_lexer": "ipython3",
   "version": "3.6.9"
  }
 },
 "nbformat": 4,
 "nbformat_minor": 1
}